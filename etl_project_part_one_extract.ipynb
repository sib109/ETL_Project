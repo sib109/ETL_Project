{
 "cells": [
  {
   "cell_type": "code",
   "execution_count": 40,
   "metadata": {},
   "outputs": [],
   "source": [
    "import pandas as pd\n",
    "import os\n",
    "import csv"
   ]
  },
  {
   "cell_type": "code",
   "execution_count": 41,
   "metadata": {},
   "outputs": [],
   "source": [
    "#Scrape Wikipedia for 2019 elections data\n",
    "url_2019 = 'https://en.wikipedia.org/wiki/Results_of_the_2019_Indian_general_election'\n",
    "tables_2019 = pd.read_html(url_2019)\n",
    "df_2019 = tables_2019[77]"
   ]
  },
  {
   "cell_type": "code",
   "execution_count": 42,
   "metadata": {},
   "outputs": [],
   "source": [
    "#Cleanup multi-index columns\n",
    "selected_cols = ['State','No.','Name','Type','Candidate','Party','Votes','RU_Candidate','RU_Party','RU_Votes','Margin']\n",
    "df_2019.columns = selected_cols\n",
    "df_2019 = df_2019[[ 'Name', 'State', 'Candidate', 'Party', 'Votes' ]]\n",
    "#Create consituency, winning party dataframe\n",
    "df_2019_winners = df_2019[['Name', 'State','Party', 'Candidate']]"
   ]
  },
  {
   "cell_type": "code",
   "execution_count": 43,
   "metadata": {},
   "outputs": [],
   "source": [
    "#Scrape Wikipedia for 2014 elections data\n",
    "url_2014 = 'https://en.wikipedia.org/wiki/Results_of_the_2014_Indian_general_election#Results_by_constituency'\n",
    "tables_2014 = pd.read_html(url_2014)\n",
    "df_2014_temp = tables_2014[78]"
   ]
  },
  {
   "cell_type": "code",
   "execution_count": 44,
   "metadata": {},
   "outputs": [],
   "source": [
    "#Select required columns\n",
    "df_2014 = df_2014_temp[['PC Name','State','Winner Candidate', 'Winner Party', 'Votes']]\n",
    "df_2014 = df_2014.rename(columns = {'PC Name': 'Name', 'Winner Candidate': 'Candidate', 'Winner Party': 'Party'})\n",
    "#Create consituency, winning party dataframe\n",
    "df_2014_winners = df_2014[['Name','State','Party','Candidate']]"
   ]
  },
  {
   "cell_type": "code",
   "execution_count": 45,
   "metadata": {},
   "outputs": [],
   "source": [
    "#Import 2009 elections data from CSV obtained from Election Commission website\n",
    "df_2009_temp = pd.read_csv('GE2009.csv')"
   ]
  },
  {
   "cell_type": "code",
   "execution_count": 46,
   "metadata": {},
   "outputs": [],
   "source": [
    "#Select only winners, i.e. candidate at position 1\n",
    "df_2009 = df_2009_temp.loc[df_2009_temp.Position == 1]\n",
    "#Standardize column names\n",
    "df_2009 = df_2009.rename(columns = {'PC name':'Name', 'State name': 'State', 'Candidate Name': 'Candidate', 'Party Abbreviation': 'Party', 'Total Votes Polled': 'Votes'})\n",
    "df_2009_winners = df_2009[['Name','State','Party','Candidate']]"
   ]
  },
  {
   "cell_type": "code",
   "execution_count": 47,
   "metadata": {},
   "outputs": [],
   "source": [
    "#Rename columns for all 3 years\n",
    "df_2009_winners = df_2009_winners.rename(columns = {'Name':'Constituency Name', 'Party':'Winning Party','Candidate':'Winning Candidate'})\n",
    "df_2014_winners = df_2014_winners.rename(columns = {'Name':'Constituency Name', 'Party':'Winning Party','Candidate':'Winning Candidate'})\n",
    "df_2019_winners = df_2019_winners.rename(columns = {'Name':'Constituency Name', 'Party':'Winning Party','Candidate':'Winning Candidate'})"
   ]
  },
  {
   "cell_type": "code",
   "execution_count": 48,
   "metadata": {},
   "outputs": [],
   "source": [
    "#Export data to be imported into pgAdmin\n",
    "df_2009_winners.to_csv('2009.csv', index = False)\n",
    "df_2014_winners.to_csv('2014.csv', index = False)\n",
    "df_2019_winners.to_csv('2019.csv', index = False)"
   ]
  },
  {
   "cell_type": "code",
   "execution_count": null,
   "metadata": {},
   "outputs": [],
   "source": []
  },
  {
   "cell_type": "code",
   "execution_count": null,
   "metadata": {},
   "outputs": [],
   "source": []
  }
 ],
 "metadata": {
  "kernelspec": {
   "display_name": "Python 3",
   "language": "python",
   "name": "python3"
  },
  "language_info": {
   "codemirror_mode": {
    "name": "ipython",
    "version": 3
   },
   "file_extension": ".py",
   "mimetype": "text/x-python",
   "name": "python",
   "nbconvert_exporter": "python",
   "pygments_lexer": "ipython3",
   "version": "3.7.3"
  }
 },
 "nbformat": 4,
 "nbformat_minor": 2
}
